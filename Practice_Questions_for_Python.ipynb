{
  "nbformat": 4,
  "nbformat_minor": 0,
  "metadata": {
    "colab": {
      "provenance": []
    },
    "kernelspec": {
      "name": "python3",
      "display_name": "Python 3"
    },
    "language_info": {
      "name": "python"
    }
  },
  "cells": [
    {
      "cell_type": "markdown",
      "source": [
        "# (1) Write a Python function that takes a list of integers and returns a new list containing only the even numbers."
      ],
      "metadata": {
        "id": "GMAifp87SNyu"
      }
    },
    {
      "cell_type": "code",
      "execution_count": null,
      "metadata": {
        "colab": {
          "base_uri": "https://localhost:8080/"
        },
        "id": "uFuuP19I3AaR",
        "outputId": "e29e6987-e734-41cc-ba18-68f213b0dc63"
      },
      "outputs": [
        {
          "output_type": "stream",
          "name": "stdout",
          "text": [
            "[2, 4, 6, 8, 10]\n"
          ]
        }
      ],
      "source": [
        "\n",
        "def even_numbers(lst):\n",
        "  eve = []\n",
        "  for i in lst:\n",
        "    if i % 2 == 0:\n",
        "      eve.append(i)\n",
        "  return print(eve)\n",
        "\n",
        "\n",
        "a = [1,2,3,4,5,6,7,8,9,10]\n",
        "\n",
        "even_numbers(a)"
      ]
    },
    {
      "cell_type": "markdown",
      "source": [
        "# (2) Write a function that takes a string as input and returns the string reversed.\n"
      ],
      "metadata": {
        "id": "_-C8XnlYSFtg"
      }
    },
    {
      "cell_type": "code",
      "source": [
        "def reverse():\n",
        "  stringe = input(\"Enter a string:\")\n",
        "  return print(stringe[::-1])\n",
        "\n",
        "reverse()"
      ],
      "metadata": {
        "colab": {
          "base_uri": "https://localhost:8080/"
        },
        "id": "NFFmu_yc5AsB",
        "outputId": "c4981aa2-23fa-46a1-9ca8-f27ee6fce97d"
      },
      "execution_count": null,
      "outputs": [
        {
          "output_type": "stream",
          "name": "stdout",
          "text": [
            "Enter a string:PRATHMESH\n",
            "HSEMHTARP\n"
          ]
        }
      ]
    },
    {
      "cell_type": "code",
      "source": [
        "# 2nd method\n",
        "\n",
        "def reverse(stringe):\n",
        "  return stringe[::-1]\n",
        "\n",
        "reverse('HELLO')"
      ],
      "metadata": {
        "colab": {
          "base_uri": "https://localhost:8080/",
          "height": 35
        },
        "id": "d-uvvYEXVSxz",
        "outputId": "1d79d799-4664-47d8-8be1-f31d4b7327ae"
      },
      "execution_count": null,
      "outputs": [
        {
          "output_type": "execute_result",
          "data": {
            "text/plain": [
              "'OLLEH'"
            ],
            "application/vnd.google.colaboratory.intrinsic+json": {
              "type": "string"
            }
          },
          "metadata": {},
          "execution_count": 5
        }
      ]
    },
    {
      "cell_type": "markdown",
      "source": [
        "# (3) Write a Python function to check whether a given number is a prime number."
      ],
      "metadata": {
        "id": "l0-xMdkbX8ve"
      }
    },
    {
      "cell_type": "code",
      "source": [
        "def prime_checker():\n",
        "  num = int(input(\"Enter a number:\"))\n",
        "  if num > 1:\n",
        "    for i in range(2, num):\n",
        "      if (num % i) == 0:\n",
        "        print(num, \"is not a prime number\")\n",
        "\n",
        "        break\n",
        "    else:\n",
        "      print(num, \"is a prime number\")\n",
        "  else:\n",
        "    print(num, \"is not a prime number\")\n",
        "\n",
        "prime_checker()"
      ],
      "metadata": {
        "colab": {
          "base_uri": "https://localhost:8080/"
        },
        "id": "vXul7nqbZ2Xq",
        "outputId": "f4fd38c0-1e44-4be7-a833-f578c28d364b"
      },
      "execution_count": null,
      "outputs": [
        {
          "output_type": "stream",
          "name": "stdout",
          "text": [
            "Enter a number:15\n",
            "15 is not a prime number\n"
          ]
        }
      ]
    },
    {
      "cell_type": "markdown",
      "source": [
        "#(4)Write a Python function that reads a file and handles potential exceptions that may occur, such as the file not existing."
      ],
      "metadata": {
        "id": "jjxR3614eLfL"
      }
    },
    {
      "cell_type": "code",
      "source": [
        "def read_file(file_path):\n",
        "  try:\n",
        "    with open(file_path, 'r') as file:\n",
        "      content = file.read()\n",
        "      return content\n",
        "\n",
        "  except FileNotFoundError:\n",
        "    print(f\"Error: '{file_path}' does not exist.\")\n",
        "  except PermissionError:\n",
        "   print(f\"Error: You do not have permission to read this file'{file_path}'.\")\n",
        "  except Exception as e:\n",
        "    print(f\"An unexpected error occurred: {e}\")\n",
        "\n",
        "\n",
        "file_path = '/content/Prathmesh_Resume_DSA.pdf'\n",
        "\n",
        "read_file(file_path)"
      ],
      "metadata": {
        "colab": {
          "base_uri": "https://localhost:8080/"
        },
        "id": "TwEXrFncr3DU",
        "outputId": "c4e75a62-1860-42fb-e246-68fe56165846"
      },
      "execution_count": null,
      "outputs": [
        {
          "output_type": "stream",
          "name": "stdout",
          "text": [
            "An unexpected error occurred: 'utf-8' codec can't decode byte 0xe2 in position 10: invalid continuation byte\n"
          ]
        }
      ]
    },
    {
      "cell_type": "markdown",
      "source": [
        "Key Points:\n",
        "\n",
        "The finally block executes even if there is a return statement in the try or except blocks. The code in finally will run before the function actually returns.\n",
        "If an exception occurs, the finally block will execute after the except block, if one exists.\n",
        "If no exceptions occur, the finally block will execute after the try block."
      ],
      "metadata": {
        "id": "lfppsBaW5mBt"
      }
    },
    {
      "cell_type": "markdown",
      "source": [
        "#(5) Define a Python class Car with attributes like make, model, and year. Include a method to display the car's information."
      ],
      "metadata": {
        "id": "7zQKvueOvwVD"
      }
    },
    {
      "cell_type": "code",
      "source": [
        "class Car():\n",
        "  def __init__(self,make,model,year):\n",
        "    self.make = make\n",
        "    self.model = model\n",
        "    self.year = year\n",
        "\n",
        "  def info(self):\n",
        "    print(\"Company :\",self.make,\"\\n\",\"Model :\",self.model,\"\\n\",\"Year :\",self.year)\n",
        "\n",
        "car1 = Car('TATA','NEXON',2020)\n",
        "car1.info()"
      ],
      "metadata": {
        "id": "dgkssfEr1-ZP",
        "colab": {
          "base_uri": "https://localhost:8080/"
        },
        "outputId": "105bdee7-1fd8-4f59-9486-073bb7667bbd"
      },
      "execution_count": null,
      "outputs": [
        {
          "output_type": "stream",
          "name": "stdout",
          "text": [
            "Company : TATA \n",
            " Model : NEXON \n",
            " Year : 2020\n"
          ]
        }
      ]
    },
    {
      "cell_type": "markdown",
      "source": [
        "#(6) Write a Python decorator that logs the execution time of a function."
      ],
      "metadata": {
        "id": "4yyrjELQxixb"
      }
    },
    {
      "cell_type": "code",
      "source": [
        "import time\n",
        "\n",
        "def time_decorator(func):\n",
        "  def mfun(*args,**kwargs):\n",
        "   start_time = time.time()\n",
        "   func(*args,**kwargs)\n",
        "   end_time = time.time()\n",
        "   execution_time = end_time - start_time\n",
        "   print(f\" Execution time for {func.__name__} is {execution_time:.4f} sec\")\n",
        "   return func\n",
        "  return mfun"
      ],
      "metadata": {
        "id": "NUvvHb65wCkL"
      },
      "execution_count": 6,
      "outputs": []
    },
    {
      "cell_type": "code",
      "source": [
        "@time_decorator\n",
        "\n",
        "def add(a,b):\n",
        "  print(a+b)\n"
      ],
      "metadata": {
        "id": "5wa8qo1gwCgy"
      },
      "execution_count": 7,
      "outputs": []
    },
    {
      "cell_type": "code",
      "source": [
        "add(1374,5876)"
      ],
      "metadata": {
        "colab": {
          "base_uri": "https://localhost:8080/",
          "height": 139
        },
        "id": "8NR5Q4yCAsUv",
        "outputId": "f37a6819-cb5c-41b5-830d-b25f6dc513a1"
      },
      "execution_count": 8,
      "outputs": [
        {
          "output_type": "stream",
          "name": "stdout",
          "text": [
            "7250\n",
            " Execution time for add is 0.0009 sec\n"
          ]
        },
        {
          "output_type": "execute_result",
          "data": {
            "text/plain": [
              "<function __main__.add(a, b)>"
            ],
            "text/html": [
              "<div style=\"max-width:800px; border: 1px solid var(--colab-border-color);\"><style>\n",
              "      pre.function-repr-contents {\n",
              "        overflow-x: auto;\n",
              "        padding: 8px 12px;\n",
              "        max-height: 500px;\n",
              "      }\n",
              "\n",
              "      pre.function-repr-contents.function-repr-contents-collapsed {\n",
              "        cursor: pointer;\n",
              "        max-height: 100px;\n",
              "      }\n",
              "    </style>\n",
              "    <pre style=\"white-space: initial; background:\n",
              "         var(--colab-secondary-surface-color); padding: 8px 12px;\n",
              "         border-bottom: 1px solid var(--colab-border-color);\"><b>add</b><br/>def add(a, b)</pre><pre class=\"function-repr-contents function-repr-contents-collapsed\" style=\"\"><a class=\"filepath\" style=\"display:none\" href=\"#\">/content/&lt;ipython-input-7-7d8f93914e23&gt;</a>&lt;no docstring&gt;</pre></div>"
            ]
          },
          "metadata": {},
          "execution_count": 8
        }
      ]
    },
    {
      "cell_type": "markdown",
      "source": [
        "# Write a function for data cleaning process"
      ],
      "metadata": {
        "id": "XPYoGC4wCSQ6"
      }
    },
    {
      "cell_type": "code",
      "source": [
        "def cleaner(filepath):\n",
        "  import pandas as pd\n",
        "  import numpy as np\n",
        "\n",
        "  df = pd.read_csv(filepath)\n",
        "\n",
        "  print(\"file_discription = \")\n",
        "  print(df.describe(include='all'))\n",
        "  print(\"\\nHead of dataset = \")\n",
        "  print(df.head())\n",
        "  print(\"\\nTail of dataset = \")\n",
        "  print(df.tail())\n",
        "  print(\"\\nShape of dataset = \")\n",
        "  print(df.shape)\n",
        "  print(\"\\nInfo of dataset = \")\n",
        "  print(df.info())\n",
        "  print(\"Null counts of each column = \")\n",
        "  print(df.isnull().sum())\n",
        "  print(\"Data types of each coloumn = \")\n",
        "  print(df.dtypes)\n",
        "\n",
        "  df.fillna(0,inplace=True)\n",
        "  df.dropna(inplace=True)\n",
        "  df.drop_duplicates(inplace=True)\n",
        "  print(\"\\nafter cleaning-null values\")\n",
        "  print(df.isnull().sum())\n",
        "\n",
        "  return df\n",
        "\n"
      ],
      "metadata": {
        "id": "xw5K0qWvBMbf"
      },
      "execution_count": 13,
      "outputs": []
    },
    {
      "cell_type": "code",
      "source": [
        "cleaner('/content/wc-at.csv')"
      ],
      "metadata": {
        "colab": {
          "base_uri": "https://localhost:8080/",
          "height": 1000
        },
        "id": "TkZrTh9_BMXi",
        "outputId": "f8368e5b-cc5e-4009-c5f1-1ca378ecad75"
      },
      "execution_count": 14,
      "outputs": [
        {
          "output_type": "stream",
          "name": "stdout",
          "text": [
            "file_discription = \n",
            "            Waist          AT\n",
            "count  109.000000  109.000000\n",
            "mean    91.901835  101.894037\n",
            "std     13.559116   57.294763\n",
            "min     63.500000   11.440000\n",
            "25%     80.000000   50.880000\n",
            "50%     90.800000   96.540000\n",
            "75%    104.000000  137.000000\n",
            "max    121.000000  253.000000\n",
            "\n",
            "Head of dataset = \n",
            "   Waist     AT\n",
            "0  74.75  25.72\n",
            "1  72.60  25.89\n",
            "2  81.80  42.60\n",
            "3  83.95  42.80\n",
            "4  74.65  29.84\n",
            "\n",
            "Tail of dataset = \n",
            "     Waist     AT\n",
            "104  100.1  124.0\n",
            "105   93.3   62.2\n",
            "106  101.8  133.0\n",
            "107  107.9  208.0\n",
            "108  108.5  208.0\n",
            "\n",
            "Shape of dataset = \n",
            "(109, 2)\n",
            "\n",
            "Info of dataset = \n",
            "<class 'pandas.core.frame.DataFrame'>\n",
            "RangeIndex: 109 entries, 0 to 108\n",
            "Data columns (total 2 columns):\n",
            " #   Column  Non-Null Count  Dtype  \n",
            "---  ------  --------------  -----  \n",
            " 0   Waist   109 non-null    float64\n",
            " 1   AT      109 non-null    float64\n",
            "dtypes: float64(2)\n",
            "memory usage: 1.8 KB\n",
            "None\n",
            "Null counts of each column = \n",
            "Waist    0\n",
            "AT       0\n",
            "dtype: int64\n",
            "Data types of each coloumn = \n",
            "Waist    float64\n",
            "AT       float64\n",
            "dtype: object\n",
            "\n",
            "after cleaning-null values\n",
            "Waist    0\n",
            "AT       0\n",
            "dtype: int64\n"
          ]
        },
        {
          "output_type": "execute_result",
          "data": {
            "text/plain": [
              "      Waist      AT\n",
              "0     74.75   25.72\n",
              "1     72.60   25.89\n",
              "2     81.80   42.60\n",
              "3     83.95   42.80\n",
              "4     74.65   29.84\n",
              "..      ...     ...\n",
              "104  100.10  124.00\n",
              "105   93.30   62.20\n",
              "106  101.80  133.00\n",
              "107  107.90  208.00\n",
              "108  108.50  208.00\n",
              "\n",
              "[109 rows x 2 columns]"
            ],
            "text/html": [
              "\n",
              "  <div id=\"df-bf8ee7a8-8141-49b8-b068-4d06c78e0b6c\" class=\"colab-df-container\">\n",
              "    <div>\n",
              "<style scoped>\n",
              "    .dataframe tbody tr th:only-of-type {\n",
              "        vertical-align: middle;\n",
              "    }\n",
              "\n",
              "    .dataframe tbody tr th {\n",
              "        vertical-align: top;\n",
              "    }\n",
              "\n",
              "    .dataframe thead th {\n",
              "        text-align: right;\n",
              "    }\n",
              "</style>\n",
              "<table border=\"1\" class=\"dataframe\">\n",
              "  <thead>\n",
              "    <tr style=\"text-align: right;\">\n",
              "      <th></th>\n",
              "      <th>Waist</th>\n",
              "      <th>AT</th>\n",
              "    </tr>\n",
              "  </thead>\n",
              "  <tbody>\n",
              "    <tr>\n",
              "      <th>0</th>\n",
              "      <td>74.75</td>\n",
              "      <td>25.72</td>\n",
              "    </tr>\n",
              "    <tr>\n",
              "      <th>1</th>\n",
              "      <td>72.60</td>\n",
              "      <td>25.89</td>\n",
              "    </tr>\n",
              "    <tr>\n",
              "      <th>2</th>\n",
              "      <td>81.80</td>\n",
              "      <td>42.60</td>\n",
              "    </tr>\n",
              "    <tr>\n",
              "      <th>3</th>\n",
              "      <td>83.95</td>\n",
              "      <td>42.80</td>\n",
              "    </tr>\n",
              "    <tr>\n",
              "      <th>4</th>\n",
              "      <td>74.65</td>\n",
              "      <td>29.84</td>\n",
              "    </tr>\n",
              "    <tr>\n",
              "      <th>...</th>\n",
              "      <td>...</td>\n",
              "      <td>...</td>\n",
              "    </tr>\n",
              "    <tr>\n",
              "      <th>104</th>\n",
              "      <td>100.10</td>\n",
              "      <td>124.00</td>\n",
              "    </tr>\n",
              "    <tr>\n",
              "      <th>105</th>\n",
              "      <td>93.30</td>\n",
              "      <td>62.20</td>\n",
              "    </tr>\n",
              "    <tr>\n",
              "      <th>106</th>\n",
              "      <td>101.80</td>\n",
              "      <td>133.00</td>\n",
              "    </tr>\n",
              "    <tr>\n",
              "      <th>107</th>\n",
              "      <td>107.90</td>\n",
              "      <td>208.00</td>\n",
              "    </tr>\n",
              "    <tr>\n",
              "      <th>108</th>\n",
              "      <td>108.50</td>\n",
              "      <td>208.00</td>\n",
              "    </tr>\n",
              "  </tbody>\n",
              "</table>\n",
              "<p>109 rows × 2 columns</p>\n",
              "</div>\n",
              "    <div class=\"colab-df-buttons\">\n",
              "\n",
              "  <div class=\"colab-df-container\">\n",
              "    <button class=\"colab-df-convert\" onclick=\"convertToInteractive('df-bf8ee7a8-8141-49b8-b068-4d06c78e0b6c')\"\n",
              "            title=\"Convert this dataframe to an interactive table.\"\n",
              "            style=\"display:none;\">\n",
              "\n",
              "  <svg xmlns=\"http://www.w3.org/2000/svg\" height=\"24px\" viewBox=\"0 -960 960 960\">\n",
              "    <path d=\"M120-120v-720h720v720H120Zm60-500h600v-160H180v160Zm220 220h160v-160H400v160Zm0 220h160v-160H400v160ZM180-400h160v-160H180v160Zm440 0h160v-160H620v160ZM180-180h160v-160H180v160Zm440 0h160v-160H620v160Z\"/>\n",
              "  </svg>\n",
              "    </button>\n",
              "\n",
              "  <style>\n",
              "    .colab-df-container {\n",
              "      display:flex;\n",
              "      gap: 12px;\n",
              "    }\n",
              "\n",
              "    .colab-df-convert {\n",
              "      background-color: #E8F0FE;\n",
              "      border: none;\n",
              "      border-radius: 50%;\n",
              "      cursor: pointer;\n",
              "      display: none;\n",
              "      fill: #1967D2;\n",
              "      height: 32px;\n",
              "      padding: 0 0 0 0;\n",
              "      width: 32px;\n",
              "    }\n",
              "\n",
              "    .colab-df-convert:hover {\n",
              "      background-color: #E2EBFA;\n",
              "      box-shadow: 0px 1px 2px rgba(60, 64, 67, 0.3), 0px 1px 3px 1px rgba(60, 64, 67, 0.15);\n",
              "      fill: #174EA6;\n",
              "    }\n",
              "\n",
              "    .colab-df-buttons div {\n",
              "      margin-bottom: 4px;\n",
              "    }\n",
              "\n",
              "    [theme=dark] .colab-df-convert {\n",
              "      background-color: #3B4455;\n",
              "      fill: #D2E3FC;\n",
              "    }\n",
              "\n",
              "    [theme=dark] .colab-df-convert:hover {\n",
              "      background-color: #434B5C;\n",
              "      box-shadow: 0px 1px 3px 1px rgba(0, 0, 0, 0.15);\n",
              "      filter: drop-shadow(0px 1px 2px rgba(0, 0, 0, 0.3));\n",
              "      fill: #FFFFFF;\n",
              "    }\n",
              "  </style>\n",
              "\n",
              "    <script>\n",
              "      const buttonEl =\n",
              "        document.querySelector('#df-bf8ee7a8-8141-49b8-b068-4d06c78e0b6c button.colab-df-convert');\n",
              "      buttonEl.style.display =\n",
              "        google.colab.kernel.accessAllowed ? 'block' : 'none';\n",
              "\n",
              "      async function convertToInteractive(key) {\n",
              "        const element = document.querySelector('#df-bf8ee7a8-8141-49b8-b068-4d06c78e0b6c');\n",
              "        const dataTable =\n",
              "          await google.colab.kernel.invokeFunction('convertToInteractive',\n",
              "                                                    [key], {});\n",
              "        if (!dataTable) return;\n",
              "\n",
              "        const docLinkHtml = 'Like what you see? Visit the ' +\n",
              "          '<a target=\"_blank\" href=https://colab.research.google.com/notebooks/data_table.ipynb>data table notebook</a>'\n",
              "          + ' to learn more about interactive tables.';\n",
              "        element.innerHTML = '';\n",
              "        dataTable['output_type'] = 'display_data';\n",
              "        await google.colab.output.renderOutput(dataTable, element);\n",
              "        const docLink = document.createElement('div');\n",
              "        docLink.innerHTML = docLinkHtml;\n",
              "        element.appendChild(docLink);\n",
              "      }\n",
              "    </script>\n",
              "  </div>\n",
              "\n",
              "\n",
              "<div id=\"df-53795238-2382-4ada-a494-c16efd0f9ce5\">\n",
              "  <button class=\"colab-df-quickchart\" onclick=\"quickchart('df-53795238-2382-4ada-a494-c16efd0f9ce5')\"\n",
              "            title=\"Suggest charts\"\n",
              "            style=\"display:none;\">\n",
              "\n",
              "<svg xmlns=\"http://www.w3.org/2000/svg\" height=\"24px\"viewBox=\"0 0 24 24\"\n",
              "     width=\"24px\">\n",
              "    <g>\n",
              "        <path d=\"M19 3H5c-1.1 0-2 .9-2 2v14c0 1.1.9 2 2 2h14c1.1 0 2-.9 2-2V5c0-1.1-.9-2-2-2zM9 17H7v-7h2v7zm4 0h-2V7h2v10zm4 0h-2v-4h2v4z\"/>\n",
              "    </g>\n",
              "</svg>\n",
              "  </button>\n",
              "\n",
              "<style>\n",
              "  .colab-df-quickchart {\n",
              "      --bg-color: #E8F0FE;\n",
              "      --fill-color: #1967D2;\n",
              "      --hover-bg-color: #E2EBFA;\n",
              "      --hover-fill-color: #174EA6;\n",
              "      --disabled-fill-color: #AAA;\n",
              "      --disabled-bg-color: #DDD;\n",
              "  }\n",
              "\n",
              "  [theme=dark] .colab-df-quickchart {\n",
              "      --bg-color: #3B4455;\n",
              "      --fill-color: #D2E3FC;\n",
              "      --hover-bg-color: #434B5C;\n",
              "      --hover-fill-color: #FFFFFF;\n",
              "      --disabled-bg-color: #3B4455;\n",
              "      --disabled-fill-color: #666;\n",
              "  }\n",
              "\n",
              "  .colab-df-quickchart {\n",
              "    background-color: var(--bg-color);\n",
              "    border: none;\n",
              "    border-radius: 50%;\n",
              "    cursor: pointer;\n",
              "    display: none;\n",
              "    fill: var(--fill-color);\n",
              "    height: 32px;\n",
              "    padding: 0;\n",
              "    width: 32px;\n",
              "  }\n",
              "\n",
              "  .colab-df-quickchart:hover {\n",
              "    background-color: var(--hover-bg-color);\n",
              "    box-shadow: 0 1px 2px rgba(60, 64, 67, 0.3), 0 1px 3px 1px rgba(60, 64, 67, 0.15);\n",
              "    fill: var(--button-hover-fill-color);\n",
              "  }\n",
              "\n",
              "  .colab-df-quickchart-complete:disabled,\n",
              "  .colab-df-quickchart-complete:disabled:hover {\n",
              "    background-color: var(--disabled-bg-color);\n",
              "    fill: var(--disabled-fill-color);\n",
              "    box-shadow: none;\n",
              "  }\n",
              "\n",
              "  .colab-df-spinner {\n",
              "    border: 2px solid var(--fill-color);\n",
              "    border-color: transparent;\n",
              "    border-bottom-color: var(--fill-color);\n",
              "    animation:\n",
              "      spin 1s steps(1) infinite;\n",
              "  }\n",
              "\n",
              "  @keyframes spin {\n",
              "    0% {\n",
              "      border-color: transparent;\n",
              "      border-bottom-color: var(--fill-color);\n",
              "      border-left-color: var(--fill-color);\n",
              "    }\n",
              "    20% {\n",
              "      border-color: transparent;\n",
              "      border-left-color: var(--fill-color);\n",
              "      border-top-color: var(--fill-color);\n",
              "    }\n",
              "    30% {\n",
              "      border-color: transparent;\n",
              "      border-left-color: var(--fill-color);\n",
              "      border-top-color: var(--fill-color);\n",
              "      border-right-color: var(--fill-color);\n",
              "    }\n",
              "    40% {\n",
              "      border-color: transparent;\n",
              "      border-right-color: var(--fill-color);\n",
              "      border-top-color: var(--fill-color);\n",
              "    }\n",
              "    60% {\n",
              "      border-color: transparent;\n",
              "      border-right-color: var(--fill-color);\n",
              "    }\n",
              "    80% {\n",
              "      border-color: transparent;\n",
              "      border-right-color: var(--fill-color);\n",
              "      border-bottom-color: var(--fill-color);\n",
              "    }\n",
              "    90% {\n",
              "      border-color: transparent;\n",
              "      border-bottom-color: var(--fill-color);\n",
              "    }\n",
              "  }\n",
              "</style>\n",
              "\n",
              "  <script>\n",
              "    async function quickchart(key) {\n",
              "      const quickchartButtonEl =\n",
              "        document.querySelector('#' + key + ' button');\n",
              "      quickchartButtonEl.disabled = true;  // To prevent multiple clicks.\n",
              "      quickchartButtonEl.classList.add('colab-df-spinner');\n",
              "      try {\n",
              "        const charts = await google.colab.kernel.invokeFunction(\n",
              "            'suggestCharts', [key], {});\n",
              "      } catch (error) {\n",
              "        console.error('Error during call to suggestCharts:', error);\n",
              "      }\n",
              "      quickchartButtonEl.classList.remove('colab-df-spinner');\n",
              "      quickchartButtonEl.classList.add('colab-df-quickchart-complete');\n",
              "    }\n",
              "    (() => {\n",
              "      let quickchartButtonEl =\n",
              "        document.querySelector('#df-53795238-2382-4ada-a494-c16efd0f9ce5 button');\n",
              "      quickchartButtonEl.style.display =\n",
              "        google.colab.kernel.accessAllowed ? 'block' : 'none';\n",
              "    })();\n",
              "  </script>\n",
              "</div>\n",
              "\n",
              "    </div>\n",
              "  </div>\n"
            ],
            "application/vnd.google.colaboratory.intrinsic+json": {
              "type": "dataframe",
              "summary": "{\n  \"name\": \"cleaner('/content/wc-at\",\n  \"rows\": 109,\n  \"fields\": [\n    {\n      \"column\": \"Waist\",\n      \"properties\": {\n        \"dtype\": \"number\",\n        \"std\": 13.559115982678824,\n        \"min\": 63.5,\n        \"max\": 121.0,\n        \"num_unique_values\": 88,\n        \"samples\": [\n          111.0,\n          74.75,\n          80.5\n        ],\n        \"semantic_type\": \"\",\n        \"description\": \"\"\n      }\n    },\n    {\n      \"column\": \"AT\",\n      \"properties\": {\n        \"dtype\": \"number\",\n        \"std\": 57.294762722312136,\n        \"min\": 11.44,\n        \"max\": 253.0,\n        \"num_unique_values\": 99,\n        \"samples\": [\n          90.41,\n          73.13,\n          188.0\n        ],\n        \"semantic_type\": \"\",\n        \"description\": \"\"\n      }\n    }\n  ]\n}"
            }
          },
          "metadata": {},
          "execution_count": 14
        }
      ]
    },
    {
      "cell_type": "code",
      "source": [],
      "metadata": {
        "id": "0lpU-sTUBMUJ"
      },
      "execution_count": null,
      "outputs": []
    },
    {
      "cell_type": "code",
      "source": [],
      "metadata": {
        "id": "mPnHWKRdBMO7"
      },
      "execution_count": null,
      "outputs": []
    },
    {
      "cell_type": "code",
      "source": [],
      "metadata": {
        "id": "xMb_1dS0BML-"
      },
      "execution_count": null,
      "outputs": []
    },
    {
      "cell_type": "code",
      "source": [],
      "metadata": {
        "id": "TUz_scLdBL3_"
      },
      "execution_count": null,
      "outputs": []
    }
  ]
}